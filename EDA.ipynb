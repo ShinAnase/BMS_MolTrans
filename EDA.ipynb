{
 "cells": [
  {
   "cell_type": "code",
   "execution_count": 1,
   "metadata": {},
   "outputs": [
    {
     "data": {
      "text/html": [
       "<style type='text/css'>\n",
       ".datatable table.frame { margin-bottom: 0; }\n",
       ".datatable table.frame thead { border-bottom: none; }\n",
       ".datatable table.frame tr.coltypes td {  color: #FFFFFF;  line-height: 6px;  padding: 0 0.5em;}\n",
       ".datatable .bool    { background: #DDDD99; }\n",
       ".datatable .object  { background: #565656; }\n",
       ".datatable .int     { background: #5D9E5D; }\n",
       ".datatable .float   { background: #4040CC; }\n",
       ".datatable .str     { background: #CC4040; }\n",
       ".datatable .row_index {  background: var(--jp-border-color3);  border-right: 1px solid var(--jp-border-color0);  color: var(--jp-ui-font-color3);  font-size: 9px;}\n",
       ".datatable .frame tr.coltypes .row_index {  background: var(--jp-border-color0);}\n",
       ".datatable th:nth-child(2) { padding-left: 12px; }\n",
       ".datatable .hellipsis {  color: var(--jp-cell-editor-border-color);}\n",
       ".datatable .vellipsis {  background: var(--jp-layout-color0);  color: var(--jp-cell-editor-border-color);}\n",
       ".datatable .na {  color: var(--jp-cell-editor-border-color);  font-size: 80%;}\n",
       ".datatable .footer { font-size: 9px; }\n",
       ".datatable .frame_dimensions {  background: var(--jp-border-color3);  border-top: 1px solid var(--jp-border-color0);  color: var(--jp-ui-font-color3);  display: inline-block;  opacity: 0.6;  padding: 1px 10px 1px 5px;}\n",
       "</style>\n"
      ],
      "text/plain": [
       "<IPython.core.display.HTML object>"
      ]
     },
     "metadata": {},
     "output_type": "display_data"
    }
   ],
   "source": [
    "import os\n",
    "from random import shuffle\n",
    "import numpy as np\n",
    "import pandas as pd\n",
    "import matplotlib.pyplot as plt\n",
    "import seaborn as sns\n",
    "#import tidalUtl.InterfaceSQL as isq\n",
    "import tidalUtl.PrpUtl as prp\n",
    "import tidalUtl.EdaUtl as eda\n",
    "import tidalUtl.VslUtl as vsl\n",
    "import tidalUtl.ImgUtl as img\n",
    "\n",
    "# loading some basic packages for testing\n",
    "from sklearn.linear_model import LogisticRegression\n",
    "import lightgbm as lgb\n",
    "from sklearn.model_selection import StratifiedKFold\n",
    "from sklearn.datasets import fetch_openml\n",
    "#import xgboost as xgb\n",
    "\n",
    "from tqdm.notebook import tqdm\n",
    "from skimage import exposure, io\n",
    "import cv2\n",
    "from glob import glob\n",
    "import pickle\n",
    "\n",
    "import random\n",
    "from random import randint"
   ]
  },
  {
   "cell_type": "code",
   "execution_count": 2,
   "metadata": {},
   "outputs": [],
   "source": [
    "# config\n",
    "INPUT = \"/home/tidal/ML_Data/BMS_MolTrans/bms-molecular-translation\"\n",
    "OUTPUT = \"/home/tidal/ML_Data/BMS_MolTrans/output\""
   ]
  },
  {
   "cell_type": "markdown",
   "metadata": {},
   "source": [
    "# LABEL"
   ]
  },
  {
   "cell_type": "code",
   "execution_count": 3,
   "metadata": {},
   "outputs": [
    {
     "data": {
      "text/html": [
       "<div>\n",
       "<style scoped>\n",
       "    .dataframe tbody tr th:only-of-type {\n",
       "        vertical-align: middle;\n",
       "    }\n",
       "\n",
       "    .dataframe tbody tr th {\n",
       "        vertical-align: top;\n",
       "    }\n",
       "\n",
       "    .dataframe thead th {\n",
       "        text-align: right;\n",
       "    }\n",
       "</style>\n",
       "<table border=\"1\" class=\"dataframe\">\n",
       "  <thead>\n",
       "    <tr style=\"text-align: right;\">\n",
       "      <th></th>\n",
       "      <th>image_id</th>\n",
       "      <th>InChI</th>\n",
       "    </tr>\n",
       "  </thead>\n",
       "  <tbody>\n",
       "    <tr>\n",
       "      <th>0</th>\n",
       "      <td>000011a64c74</td>\n",
       "      <td>InChI=1S/C13H20OS/c1-9(2)8-15-13-6-5-10(3)7-12...</td>\n",
       "    </tr>\n",
       "    <tr>\n",
       "      <th>1</th>\n",
       "      <td>000019cc0cd2</td>\n",
       "      <td>InChI=1S/C21H30O4/c1-12(22)25-14-6-8-20(2)13(1...</td>\n",
       "    </tr>\n",
       "    <tr>\n",
       "      <th>2</th>\n",
       "      <td>0000252b6d2b</td>\n",
       "      <td>InChI=1S/C24H23N5O4/c1-14-13-15(7-8-17(14)28-1...</td>\n",
       "    </tr>\n",
       "    <tr>\n",
       "      <th>3</th>\n",
       "      <td>000026b49b7e</td>\n",
       "      <td>InChI=1S/C17H24N2O4S/c1-12(20)18-13(14-7-6-10-...</td>\n",
       "    </tr>\n",
       "    <tr>\n",
       "      <th>4</th>\n",
       "      <td>000026fc6c36</td>\n",
       "      <td>InChI=1S/C10H19N3O2S/c1-15-10(14)12-8-4-6-13(7...</td>\n",
       "    </tr>\n",
       "    <tr>\n",
       "      <th>...</th>\n",
       "      <td>...</td>\n",
       "      <td>...</td>\n",
       "    </tr>\n",
       "    <tr>\n",
       "      <th>2424181</th>\n",
       "      <td>ffffe824f539</td>\n",
       "      <td>InChI=1S/C10H12F2N2O3/c1-17-7-2-5(3-8(15)16)9(...</td>\n",
       "    </tr>\n",
       "    <tr>\n",
       "      <th>2424182</th>\n",
       "      <td>ffffea1ebdfa</td>\n",
       "      <td>InChI=1S/C19H20F2N4O3S/c1-10(8-20)28-14-7-12(2...</td>\n",
       "    </tr>\n",
       "    <tr>\n",
       "      <th>2424183</th>\n",
       "      <td>ffffee2b4534</td>\n",
       "      <td>InChI=1S/C22H26Cl2N2O4S/c1-16-6-2-3-10-21(16)3...</td>\n",
       "    </tr>\n",
       "    <tr>\n",
       "      <th>2424184</th>\n",
       "      <td>fffff0b6eea6</td>\n",
       "      <td>InChI=1S/C17H26N2O6S/c1-23-16-12-14(4-5-15(16)...</td>\n",
       "    </tr>\n",
       "    <tr>\n",
       "      <th>2424185</th>\n",
       "      <td>fffff608dd38</td>\n",
       "      <td>InChI=1S/C10H18N2O9P2/c1-7-10(13)9(5-11-2-3-20...</td>\n",
       "    </tr>\n",
       "  </tbody>\n",
       "</table>\n",
       "<p>2424186 rows × 2 columns</p>\n",
       "</div>"
      ],
      "text/plain": [
       "             image_id                                              InChI\n",
       "0        000011a64c74  InChI=1S/C13H20OS/c1-9(2)8-15-13-6-5-10(3)7-12...\n",
       "1        000019cc0cd2  InChI=1S/C21H30O4/c1-12(22)25-14-6-8-20(2)13(1...\n",
       "2        0000252b6d2b  InChI=1S/C24H23N5O4/c1-14-13-15(7-8-17(14)28-1...\n",
       "3        000026b49b7e  InChI=1S/C17H24N2O4S/c1-12(20)18-13(14-7-6-10-...\n",
       "4        000026fc6c36  InChI=1S/C10H19N3O2S/c1-15-10(14)12-8-4-6-13(7...\n",
       "...               ...                                                ...\n",
       "2424181  ffffe824f539  InChI=1S/C10H12F2N2O3/c1-17-7-2-5(3-8(15)16)9(...\n",
       "2424182  ffffea1ebdfa  InChI=1S/C19H20F2N4O3S/c1-10(8-20)28-14-7-12(2...\n",
       "2424183  ffffee2b4534  InChI=1S/C22H26Cl2N2O4S/c1-16-6-2-3-10-21(16)3...\n",
       "2424184  fffff0b6eea6  InChI=1S/C17H26N2O6S/c1-23-16-12-14(4-5-15(16)...\n",
       "2424185  fffff608dd38  InChI=1S/C10H18N2O9P2/c1-7-10(13)9(5-11-2-3-20...\n",
       "\n",
       "[2424186 rows x 2 columns]"
      ]
     },
     "execution_count": 3,
     "metadata": {},
     "output_type": "execute_result"
    }
   ],
   "source": [
    "df_train_labels = pd.read_csv(INPUT + \"/train_labels.csv\")\n",
    "df_train_labels"
   ]
  },
  {
   "cell_type": "code",
   "execution_count": 4,
   "metadata": {},
   "outputs": [
    {
     "name": "stdout",
     "output_type": "stream",
     "text": [
      "There is not NULL.\n"
     ]
    }
   ],
   "source": [
    "eda.chkDfIsNull(df_train_labels)"
   ]
  },
  {
   "cell_type": "code",
   "execution_count": 5,
   "metadata": {},
   "outputs": [
    {
     "name": "stdout",
     "output_type": "stream",
     "text": [
      "image_id is unique.\n"
     ]
    }
   ],
   "source": [
    "eda.chkUnique(df_train_labels, \"image_id\")"
   ]
  },
  {
   "cell_type": "code",
   "execution_count": 6,
   "metadata": {},
   "outputs": [
    {
     "name": "stdout",
     "output_type": "stream",
     "text": [
      "InChI is unique.\n"
     ]
    }
   ],
   "source": [
    "eda.chkUnique(df_train_labels, \"InChI\")"
   ]
  },
  {
   "cell_type": "code",
   "execution_count": 7,
   "metadata": {},
   "outputs": [
    {
     "data": {
      "text/plain": [
       "'InChI=1S/C19H20FNO4S/c1-12-3-6-15(7-4-12)26(24,25)21-10-9-17(19(22)23)18(21)16-8-5-14(20)11-13(16)2/h3-8,11,17-18H,9-10H2,1-2H3,(H,22,23)/t17-,18+/m0/s1'"
      ]
     },
     "execution_count": 7,
     "metadata": {},
     "output_type": "execute_result"
    }
   ],
   "source": [
    "df_train_labels[\"InChI\"][1000]"
   ]
  },
  {
   "cell_type": "markdown",
   "metadata": {},
   "source": [
    "・レイヤーによって'/'で区切られる<font color=\"Red\">（’/’の数を数えておくか...）</font><br>\n",
    "・1S -> standardな書き方という意味らしい。'1'と'1S'しかないらしい<font color=\"Red\">（比を調べておくこと）</font><br>\n",
    "　また、1Sの場合は一部レイヤーが省略される（'/'が2つ減る）<br>\n",
    "・元素の種類（CとかHとか）と数<br>\n",
    "・メインレイヤー1：接頭文字:”c”として原子のつながりを記述する（炭素ではない）<br>\n",
    "・メインレイヤー2：接頭文字:”h”として水素のつながりを記述する（炭素ではない）<br>\n",
    "・サブレイヤー:電化、立体化学、同位体などを表すレイヤー(種類によって'/'でつなげていく)<br>\n",
    "<font color=\"Red\">データの並びが単純なものから複雑なものへと並んでる気がする（'/'が少ないか大きいか）</font><br>\n",
    "<font color=\"Red\">⇨区切りの多さでfold分けできそう</font><br>\n",
    "例）<br>\n",
    "InChI=1S/C13H20OS/c1-9(2)8-15-13-6-5-10(3)7-12(13)11(4)14/h5-7,9,11,14H,8H2,1-4H3<br>\n",
    "InChI=1S/C19H20FNO4S/c1-12-3-6-15(7-4-12)26(24,25)21-10-9-17(19(22)23)18(21)16-8-5-14(20)11-13(16)2/h3-8,11,17-18H,9-10H2,1-2H3,(H,22,23)/t17-,18+/m0/s1<br>\n",
    "[参考(wikipedia)](https://ja.wikipedia.org/wiki/InChI)"
   ]
  },
  {
   "cell_type": "code",
   "execution_count": 8,
   "metadata": {},
   "outputs": [
    {
     "data": {
      "text/plain": [
       "['InChI=1S',\n",
       " 'C19H20FNO4S',\n",
       " 'c1-12-3-6-15(7-4-12)26(24,25)21-10-9-17(19(22)23)18(21)16-8-5-14(20)11-13(16)2',\n",
       " 'h3-8,11,17-18H,9-10H2,1-2H3,(H,22,23)',\n",
       " 't17-,18+',\n",
       " 'm0',\n",
       " 's1']"
      ]
     },
     "execution_count": 8,
     "metadata": {},
     "output_type": "execute_result"
    }
   ],
   "source": [
    "df_train_labels[\"InChI\"][1000].split(\"/\")"
   ]
  },
  {
   "cell_type": "code",
   "execution_count": 9,
   "metadata": {},
   "outputs": [],
   "source": [
    "INCHIs=df_train_labels[\"InChI\"].values.tolist()"
   ]
  },
  {
   "cell_type": "code",
   "execution_count": 10,
   "metadata": {},
   "outputs": [
    {
     "data": {
      "application/vnd.jupyter.widget-view+json": {
       "model_id": "66fdf5e243104dd2a319c806897775c8",
       "version_major": 2,
       "version_minor": 0
      },
      "text/plain": [
       "HBox(children=(HTML(value=''), FloatProgress(value=1.0, bar_style='info', layout=Layout(width='20px'), max=1.0…"
      ]
     },
     "metadata": {},
     "output_type": "display_data"
    },
    {
     "name": "stdout",
     "output_type": "stream",
     "text": [
      "\n"
     ]
    }
   ],
   "source": [
    "#レイヤー数の計算\n",
    "INCHIsList=[]\n",
    "for i, inchi in tqdm(enumerate(INCHIs)):\n",
    "    #df_train_labels.loc[i, \"layerNum\"] = inchi.count(\"/\")+1\n",
    "    INCHIsList.append(inchi.count(\"/\")+1)\n",
    "    \n",
    "layerNum_df = pd.DataFrame(INCHIsList, columns=[\"layerNum\"])\n",
    "df_train_labels = pd.concat([df_train_labels, layerNum_df], axis=1)"
   ]
  },
  {
   "cell_type": "code",
   "execution_count": 11,
   "metadata": {},
   "outputs": [
    {
     "data": {
      "text/html": [
       "<div>\n",
       "<style scoped>\n",
       "    .dataframe tbody tr th:only-of-type {\n",
       "        vertical-align: middle;\n",
       "    }\n",
       "\n",
       "    .dataframe tbody tr th {\n",
       "        vertical-align: top;\n",
       "    }\n",
       "\n",
       "    .dataframe thead th {\n",
       "        text-align: right;\n",
       "    }\n",
       "</style>\n",
       "<table border=\"1\" class=\"dataframe\">\n",
       "  <thead>\n",
       "    <tr style=\"text-align: right;\">\n",
       "      <th></th>\n",
       "      <th>image_id</th>\n",
       "      <th>InChI</th>\n",
       "      <th>layerNum</th>\n",
       "    </tr>\n",
       "  </thead>\n",
       "  <tbody>\n",
       "    <tr>\n",
       "      <th>0</th>\n",
       "      <td>000011a64c74</td>\n",
       "      <td>InChI=1S/C13H20OS/c1-9(2)8-15-13-6-5-10(3)7-12...</td>\n",
       "      <td>4</td>\n",
       "    </tr>\n",
       "    <tr>\n",
       "      <th>1</th>\n",
       "      <td>000019cc0cd2</td>\n",
       "      <td>InChI=1S/C21H30O4/c1-12(22)25-14-6-8-20(2)13(1...</td>\n",
       "      <td>7</td>\n",
       "    </tr>\n",
       "    <tr>\n",
       "      <th>2</th>\n",
       "      <td>0000252b6d2b</td>\n",
       "      <td>InChI=1S/C24H23N5O4/c1-14-13-15(7-8-17(14)28-1...</td>\n",
       "      <td>4</td>\n",
       "    </tr>\n",
       "    <tr>\n",
       "      <th>3</th>\n",
       "      <td>000026b49b7e</td>\n",
       "      <td>InChI=1S/C17H24N2O4S/c1-12(20)18-13(14-7-6-10-...</td>\n",
       "      <td>4</td>\n",
       "    </tr>\n",
       "    <tr>\n",
       "      <th>4</th>\n",
       "      <td>000026fc6c36</td>\n",
       "      <td>InChI=1S/C10H19N3O2S/c1-15-10(14)12-8-4-6-13(7...</td>\n",
       "      <td>4</td>\n",
       "    </tr>\n",
       "    <tr>\n",
       "      <th>...</th>\n",
       "      <td>...</td>\n",
       "      <td>...</td>\n",
       "      <td>...</td>\n",
       "    </tr>\n",
       "    <tr>\n",
       "      <th>2424181</th>\n",
       "      <td>ffffe824f539</td>\n",
       "      <td>InChI=1S/C10H12F2N2O3/c1-17-7-2-5(3-8(15)16)9(...</td>\n",
       "      <td>4</td>\n",
       "    </tr>\n",
       "    <tr>\n",
       "      <th>2424182</th>\n",
       "      <td>ffffea1ebdfa</td>\n",
       "      <td>InChI=1S/C19H20F2N4O3S/c1-10(8-20)28-14-7-12(2...</td>\n",
       "      <td>4</td>\n",
       "    </tr>\n",
       "    <tr>\n",
       "      <th>2424183</th>\n",
       "      <td>ffffee2b4534</td>\n",
       "      <td>InChI=1S/C22H26Cl2N2O4S/c1-16-6-2-3-10-21(16)3...</td>\n",
       "      <td>4</td>\n",
       "    </tr>\n",
       "    <tr>\n",
       "      <th>2424184</th>\n",
       "      <td>fffff0b6eea6</td>\n",
       "      <td>InChI=1S/C17H26N2O6S/c1-23-16-12-14(4-5-15(16)...</td>\n",
       "      <td>4</td>\n",
       "    </tr>\n",
       "    <tr>\n",
       "      <th>2424185</th>\n",
       "      <td>fffff608dd38</td>\n",
       "      <td>InChI=1S/C10H18N2O9P2/c1-7-10(13)9(5-11-2-3-20...</td>\n",
       "      <td>4</td>\n",
       "    </tr>\n",
       "  </tbody>\n",
       "</table>\n",
       "<p>2424186 rows × 3 columns</p>\n",
       "</div>"
      ],
      "text/plain": [
       "             image_id                                              InChI  \\\n",
       "0        000011a64c74  InChI=1S/C13H20OS/c1-9(2)8-15-13-6-5-10(3)7-12...   \n",
       "1        000019cc0cd2  InChI=1S/C21H30O4/c1-12(22)25-14-6-8-20(2)13(1...   \n",
       "2        0000252b6d2b  InChI=1S/C24H23N5O4/c1-14-13-15(7-8-17(14)28-1...   \n",
       "3        000026b49b7e  InChI=1S/C17H24N2O4S/c1-12(20)18-13(14-7-6-10-...   \n",
       "4        000026fc6c36  InChI=1S/C10H19N3O2S/c1-15-10(14)12-8-4-6-13(7...   \n",
       "...               ...                                                ...   \n",
       "2424181  ffffe824f539  InChI=1S/C10H12F2N2O3/c1-17-7-2-5(3-8(15)16)9(...   \n",
       "2424182  ffffea1ebdfa  InChI=1S/C19H20F2N4O3S/c1-10(8-20)28-14-7-12(2...   \n",
       "2424183  ffffee2b4534  InChI=1S/C22H26Cl2N2O4S/c1-16-6-2-3-10-21(16)3...   \n",
       "2424184  fffff0b6eea6  InChI=1S/C17H26N2O6S/c1-23-16-12-14(4-5-15(16)...   \n",
       "2424185  fffff608dd38  InChI=1S/C10H18N2O9P2/c1-7-10(13)9(5-11-2-3-20...   \n",
       "\n",
       "         layerNum  \n",
       "0               4  \n",
       "1               7  \n",
       "2               4  \n",
       "3               4  \n",
       "4               4  \n",
       "...           ...  \n",
       "2424181         4  \n",
       "2424182         4  \n",
       "2424183         4  \n",
       "2424184         4  \n",
       "2424185         4  \n",
       "\n",
       "[2424186 rows x 3 columns]"
      ]
     },
     "execution_count": 11,
     "metadata": {},
     "output_type": "execute_result"
    }
   ],
   "source": [
    "df_train_labels"
   ]
  },
  {
   "cell_type": "code",
   "execution_count": 55,
   "metadata": {},
   "outputs": [
    {
     "data": {
      "text/plain": [
       "layerNum\n",
       "3               307\n",
       "4           1893702\n",
       "5            133623\n",
       "6               398\n",
       "7            371839\n",
       "8             24162\n",
       "9               127\n",
       "10               27\n",
       "11                1\n",
       "dtype: int64"
      ]
     },
     "execution_count": 55,
     "metadata": {},
     "output_type": "execute_result"
    }
   ],
   "source": [
    "layerNum_df.value_counts().sort_index()"
   ]
  },
  {
   "cell_type": "code",
   "execution_count": 54,
   "metadata": {
    "scrolled": false
   },
   "outputs": [
    {
     "data": {
      "image/png": "[encoded data removed]",
      "text/plain": [
       "<Figure size 1440x720 with 1 Axes>"
      ]
     },
     "metadata": {
      "needs_background": "light"
     },
     "output_type": "display_data"
    }
   ],
   "source": [
    "x = []\n",
    "for i in range(len(layerNum_df.value_counts().index.tolist())):\n",
    "    x.append(layerNum_df.value_counts().index.tolist()[i][0])\n",
    "fig = plt.figure(figsize=(20,10))\n",
    "sns.barplot(x = x, y = layerNum_df.value_counts().values)\n",
    "plt.show()"
   ]
  },
  {
   "cell_type": "markdown",
   "metadata": {},
   "source": [
    "・基本的にはレイヤーは4つ。バージョン/化学式/原子のつながり/水素原子の情報のみ。<br>\n",
    "　バージョンはだいたい固定のはずなので予測するのは3つの情報<br>\n",
    "・全体の5分の1が上記情報に合わせて立体情報などが入っていると思われる。(5個と7個)<br>\n",
    "★**foldではこの個数が均等になるように分けること**"
   ]
  },
  {
   "cell_type": "code",
   "execution_count": 60,
   "metadata": {},
   "outputs": [],
   "source": [
    "#バージョン(1S or 1)の可視化\n",
    "INCHIs=df_train_labels[\"InChI\"].values.tolist()\n",
    "num_1 = 0\n",
    "num_1s = 0\n",
    "for i in range(len(INCHIs)):\n",
    "    ver = INCHIs[i][6:8]\n",
    "    if ver == \"1S\":\n",
    "        num_1s += 1\n",
    "    elif ver == \"1/\":\n",
    "        num_1 += 1\n",
    "    else:\n",
    "        print(ver)"
   ]
  },
  {
   "cell_type": "code",
   "execution_count": 61,
   "metadata": {},
   "outputs": [
    {
     "name": "stdout",
     "output_type": "stream",
     "text": [
      "num_1:0\n",
      "num_1s:2424186\n"
     ]
    }
   ],
   "source": [
    "print(f\"num_1:{num_1}\")\n",
    "print(f\"num_1s:{num_1s}\")"
   ]
  },
  {
   "cell_type": "markdown",
   "metadata": {},
   "source": [
    "バージョンは全て1S。<br>\n",
    "★**submit時は決め打ちで最初を'InChI=1S/'にしておけば良い**"
   ]
  },
  {
   "cell_type": "markdown",
   "metadata": {},
   "source": [
    "# IMAGE"
   ]
  },
  {
   "cell_type": "code",
   "execution_count": 62,
   "metadata": {},
   "outputs": [],
   "source": [
    "def convert_image_id_2_path(image_id: str) -> str:\n",
    "    return \"../input/bms-molecular-translation/train/{}/{}/{}/{}.png\".format(\n",
    "        image_id[0], image_id[1], image_id[2], image_id \n",
    "    )\n"
   ]
  },
  {
   "cell_type": "code",
   "execution_count": null,
   "metadata": {},
   "outputs": [],
   "source": []
  }
 ],
 "metadata": {
  "kernelspec": {
   "display_name": "Python 3",
   "language": "python",
   "name": "python3"
  },
  "language_info": {
   "codemirror_mode": {
    "name": "ipython",
    "version": 3
   },
   "file_extension": ".py",
   "mimetype": "text/x-python",
   "name": "python",
   "nbconvert_exporter": "python",
   "pygments_lexer": "ipython3",
   "version": "3.7.9"
  }
 },
 "nbformat": 4,
 "nbformat_minor": 4
}
